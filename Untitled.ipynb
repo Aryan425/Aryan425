{
 "cells": [
  {
   "cell_type": "code",
   "execution_count": 3,
   "id": "e1795d33",
   "metadata": {},
   "outputs": [
    {
     "name": "stdout",
     "output_type": "stream",
     "text": [
      "Enter side 1 5\n",
      "Enter side 2 5\n",
      "Enter side 3 6\n"
     ]
    },
    {
     "data": {
      "text/plain": [
       "139.1402170474087"
      ]
     },
     "execution_count": 3,
     "metadata": {},
     "output_type": "execute_result"
    }
   ],
   "source": [
    "def tri():\n",
    "    a=int(input(\"Enter side 1 \"))\n",
    "    b=int(input(\"Enter side 2 \"))\n",
    "    c=int(input(\"Enter side 3 \"))\n",
    "    assert (a+b)>c and (b+c)>a and (a+c)>b,\"Wrong sides\";\n",
    "    s=a+b+c;\n",
    "    d=(s*(s-a)*(s-b)*(s-c))**0.5\n",
    "    return d\n",
    "tri()\n",
    "    "
   ]
  },
  {
   "cell_type": "code",
   "execution_count": 5,
   "id": "950c5196",
   "metadata": {},
   "outputs": [
    {
     "data": {
      "text/plain": [
       "46368"
      ]
     },
     "execution_count": 5,
     "metadata": {},
     "output_type": "execute_result"
    }
   ],
   "source": [
    "def fibbo(n):\n",
    "    if n==0:\n",
    "        return 0;\n",
    "    if n==1:\n",
    "        return 1;\n",
    "    else:\n",
    "        return fibbo(n-2)+fibbo(n-1)\n",
    "fibbo(24)"
   ]
  },
  {
   "cell_type": "code",
   "execution_count": 14,
   "id": "294bb74d",
   "metadata": {},
   "outputs": [
    {
     "data": {
      "text/plain": [
       "1"
      ]
     },
     "execution_count": 14,
     "metadata": {},
     "output_type": "execute_result"
    }
   ],
   "source": [
    "import math\n",
    "def series(x,n):\n",
    "    su=1;\n",
    "    for i in range(2,n):\n",
    "        if(i%2==0):\n",
    "            su =su-x*i/(math.factorial(i));\n",
    "        else:\n",
    "            su =su+x*i/(math.factorial(i));\n",
    "    return su;\n",
    "series(5,2)\n",
    "        \n",
    "\n",
    "    "
   ]
  },
  {
   "cell_type": "code",
   "execution_count": 19,
   "id": "58cc32af",
   "metadata": {},
   "outputs": [
    {
     "data": {
      "image/png": "[encoded data removed]",
      "text/plain": [
       "<Figure size 432x288 with 1 Axes>"
      ]
     },
     "metadata": {
      "needs_background": "light"
     },
     "output_type": "display_data"
    }
   ],
   "source": [
    "import matplotlib.pyplot as mpl\n",
    "def cur():\n",
    "    l1=[i for i in range(2,180,30)]\n",
    "    l2=[math.cos(i) for i in l1]\n",
    "    mpl.plot(l1,l2,'r*--')\n",
    "    mpl.title(\"Cos\")\n",
    "cur()"
   ]
  },
  {
   "cell_type": "code",
   "execution_count": null,
   "id": "658d53f0",
   "metadata": {},
   "outputs": [],
   "source": []
  }
 ],
 "metadata": {
  "kernelspec": {
   "display_name": "Python 3 (ipykernel)",
   "language": "python",
   "name": "python3"
  },
  "language_info": {
   "codemirror_mode": {
    "name": "ipython",
    "version": 3
   },
   "file_extension": ".py",
   "mimetype": "text/x-python",
   "name": "python",
   "nbconvert_exporter": "python",
   "pygments_lexer": "ipython3",
   "version": "3.9.7"
  }
 },
 "nbformat": 4,
 "nbformat_minor": 5
}
