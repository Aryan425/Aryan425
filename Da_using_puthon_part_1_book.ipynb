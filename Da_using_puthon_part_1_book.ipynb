{
 "cells": [
  {
   "cell_type": "code",
   "execution_count": 2,
   "id": "5ea66a7a",
   "metadata": {},
   "outputs": [
    {
     "name": "stdout",
     "output_type": "stream",
     "text": [
      "Enter Number 15\n",
      "Enter Number 23\n",
      "8\n",
      "15\n",
      "2\n",
      "1.6666666666666667\n",
      "125\n",
      "1\n",
      "True\n"
     ]
    }
   ],
   "source": [
    "x=int(input(\"Enter Number 1\"));\n",
    "y=int(input(\"Enter Number 2\"));\n",
    "print (x+y)\n",
    "print (x*y);\n",
    "print (x%y);\n",
    "print (x/y);\n",
    "print (x**y);\n",
    "print (x//y);\n",
    "print (x>y and x%5==0 )"
   ]
  },
  {
   "cell_type": "code",
   "execution_count": 3,
   "id": "b262ac5b",
   "metadata": {},
   "outputs": [],
   "source": [
    "import numpy as np;  ##scientific computation stack is built \n",
    "import pandas as pd;  ## data cleaning and data extraction\n",
    "import matplotlib as mat;  ## creating line plot ,scatter plot, creating image\n",
    "import seaborn as sea; ## for heat maps\n",
    "import scipy as sp; ##Linear algebra ,optimization ,statistics\n",
    "import statsmodels as st; ## data exploration, estimate statistical model\n",
    "import sklearn as sk; ## built upon scipy . Large range of supervised and unsupervised ML tools \n",
    "import nltk as nl; ##natural language prossecing ,text tagging ,tokenizing \n",
    "#import keras as k; ## for deep learning \n",
    "\n"
   ]
  },
  {
   "cell_type": "code",
   "execution_count": 4,
   "id": "ac862550",
   "metadata": {},
   "outputs": [
    {
     "name": "stdout",
     "output_type": "stream",
     "text": [
      "0\n",
      "2\n",
      "4\n"
     ]
    }
   ],
   "source": [
    "for i in range(0,x,2):\n",
    "    print (i);"
   ]
  },
  {
   "cell_type": "code",
   "execution_count": 5,
   "id": "f0a71adc",
   "metadata": {},
   "outputs": [
    {
     "name": "stdout",
     "output_type": "stream",
     "text": [
      "120\n"
     ]
    }
   ],
   "source": [
    "\n",
    "def disp(i):\n",
    "    if(i>0):\n",
    "        t=i;\n",
    "        i=i-1;\n",
    "        return t*disp(i);\n",
    "    return 1;\n",
    "\n",
    "print (disp(5));"
   ]
  },
  {
   "cell_type": "code",
   "execution_count": 6,
   "id": "b73ed22b",
   "metadata": {},
   "outputs": [
    {
     "name": "stdout",
     "output_type": "stream",
     "text": [
      "5\n",
      "4\n",
      "3\n",
      "2\n",
      "1\n"
     ]
    }
   ],
   "source": [
    "while(x>0):\n",
    "    print (x);\n",
    "    x-=1;\n",
    "    "
   ]
  },
  {
   "cell_type": "code",
   "execution_count": 7,
   "id": "47dd6de9",
   "metadata": {},
   "outputs": [
    {
     "name": "stdout",
     "output_type": "stream",
     "text": [
      "Enter String 1hi\n",
      "Enter String 2hi\n",
      "False\n"
     ]
    }
   ],
   "source": [
    "str1=input('Enter String 1')\n",
    "str2=input('Enter String 2')\n",
    "if(len(str1)>len(str2)):\n",
    "    print (True);\n",
    "else :\n",
    "    print (False);\n"
   ]
  },
  {
   "cell_type": "code",
   "execution_count": 12,
   "id": "bcf9e655",
   "metadata": {},
   "outputs": [
    {
     "name": "stdout",
     "output_type": "stream",
     "text": [
      "hello\n"
     ]
    }
   ],
   "source": [
    "class rr:\n",
    "    print (\"hello\")\n"
   ]
  },
  {
   "cell_type": "code",
   "execution_count": 8,
   "id": "1f675348",
   "metadata": {},
   "outputs": [
    {
     "ename": "SyntaxError",
     "evalue": "invalid syntax (Temp/ipykernel_8392/155802196.py, line 1)",
     "output_type": "error",
     "traceback": [
      "\u001b[1;36m  File \u001b[1;32m\"C:\\Users\\dell\\AppData\\Local\\Temp/ipykernel_8392/155802196.py\"\u001b[1;36m, line \u001b[1;32m1\u001b[0m\n\u001b[1;33m    arr[]\u001b[0m\n\u001b[1;37m        ^\u001b[0m\n\u001b[1;31mSyntaxError\u001b[0m\u001b[1;31m:\u001b[0m invalid syntax\n"
     ]
    }
   ],
   "source": [
    "\n"
   ]
  },
  {
   "cell_type": "code",
   "execution_count": 33,
   "id": "2519d020",
   "metadata": {},
   "outputs": [],
   "source": [
    "import array as arr ## creating array"
   ]
  },
  {
   "cell_type": "code",
   "execution_count": 34,
   "id": "5d06a360",
   "metadata": {},
   "outputs": [],
   "source": [
    "a=arr.array('i',[1,2,3])   ## arrayname=reference.array(datatype,values);"
   ]
  },
  {
   "cell_type": "code",
   "execution_count": 37,
   "id": "71fb8f84",
   "metadata": {},
   "outputs": [
    {
     "name": "stdout",
     "output_type": "stream",
     "text": [
      "1 2 3 "
     ]
    }
   ],
   "source": [
    "for i in range(0,3):\n",
    "    print(a[i],end=\" \")"
   ]
  },
  {
   "cell_type": "code",
   "execution_count": 38,
   "id": "18d2200e",
   "metadata": {},
   "outputs": [],
   "source": [
    "global y"
   ]
  },
  {
   "cell_type": "code",
   "execution_count": 39,
   "id": "9042cd91",
   "metadata": {},
   "outputs": [],
   "source": [
    "y=10"
   ]
  },
  {
   "cell_type": "code",
   "execution_count": 40,
   "id": "9d0d6d95",
   "metadata": {},
   "outputs": [
    {
     "name": "stdout",
     "output_type": "stream",
     "text": [
      "10\n"
     ]
    }
   ],
   "source": [
    "print (y)"
   ]
  },
  {
   "cell_type": "code",
   "execution_count": 41,
   "id": "58d7b8d9",
   "metadata": {},
   "outputs": [
    {
     "name": "stdout",
     "output_type": "stream",
     "text": [
      "enter num 15.6\n"
     ]
    }
   ],
   "source": [
    "val1=float(input(\"enter num 1\"));\n",
    "val2=int(val1);"
   ]
  },
  {
   "cell_type": "code",
   "execution_count": 42,
   "id": "d1b7fcbb",
   "metadata": {},
   "outputs": [
    {
     "name": "stdout",
     "output_type": "stream",
     "text": [
      "5\n"
     ]
    }
   ],
   "source": [
    "print (val2)"
   ]
  },
  {
   "cell_type": "code",
   "execution_count": 47,
   "id": "2b574ee7",
   "metadata": {},
   "outputs": [],
   "source": [
    "def check():  #checking any element in array\n",
    "    a=[5,3,2];\n",
    "    b=6;\n",
    "    if b in a:\n",
    "        print (True);\n",
    "    else:\n",
    "        print (False);\n",
    "        "
   ]
  },
  {
   "cell_type": "code",
   "execution_count": 48,
   "id": "eb6dede4",
   "metadata": {},
   "outputs": [
    {
     "name": "stdout",
     "output_type": "stream",
     "text": [
      "False\n"
     ]
    }
   ],
   "source": [
    "check()"
   ]
  },
  {
   "cell_type": "code",
   "execution_count": 86,
   "id": "28ad6543",
   "metadata": {},
   "outputs": [],
   "source": [
    "class Hi:   ## creating class\n",
    "    v=6;\n",
    "    def dis(self,v):\n",
    "        print(v);\n",
    "        \n",
    "        "
   ]
  },
  {
   "cell_type": "code",
   "execution_count": 88,
   "id": "e069ad76",
   "metadata": {},
   "outputs": [
    {
     "name": "stdout",
     "output_type": "stream",
     "text": [
      "5\n"
     ]
    }
   ],
   "source": [
    "b1=Hi();\n",
    "b1.dis(5)"
   ]
  },
  {
   "cell_type": "code",
   "execution_count": 90,
   "id": "02d71b34",
   "metadata": {},
   "outputs": [
    {
     "name": "stdout",
     "output_type": "stream",
     "text": [
      "0 , 1 , 2 , 3 , 4 , "
     ]
    }
   ],
   "source": [
    "##creating a list\n",
    "l=[]; total=0;\n",
    "for i in range(0,5):\n",
    "    l+=[i];\n",
    "    total+=i;\n",
    "\n",
    "## display\n",
    "for i in l:\n",
    "    print (i, end=\" , \")\n",
    "    "
   ]
  },
  {
   "cell_type": "code",
   "execution_count": 91,
   "id": "8fbd3bc9",
   "metadata": {},
   "outputs": [
    {
     "name": "stdout",
     "output_type": "stream",
     "text": [
      "10\n"
     ]
    }
   ],
   "source": [
    "print (total);"
   ]
  },
  {
   "cell_type": "code",
   "execution_count": 92,
   "id": "d0f1a8de",
   "metadata": {},
   "outputs": [
    {
     "name": "stdout",
     "output_type": "stream",
     "text": [
      "0,2,4,6,8,10,12,14,16,18,20,22,24,"
     ]
    }
   ],
   "source": [
    "## directy creating list\n",
    "li=list(range(0,25,2));\n",
    "for i in li:\n",
    "    print (i,end=\",\")"
   ]
  },
  {
   "cell_type": "code",
   "execution_count": 96,
   "id": "663972e5",
   "metadata": {},
   "outputs": [
    {
     "name": "stdout",
     "output_type": "stream",
     "text": [
      "2,3,2.5,[5, 3, 6, 8],hi ,b,"
     ]
    }
   ],
   "source": [
    "li=[2,3,2.5,[5,3,6,8],\"hi \",'b'];  ##hetrogenous list\n",
    "for i in li:\n",
    "    print (i,end=\",\")"
   ]
  },
  {
   "cell_type": "code",
   "execution_count": 97,
   "id": "b8297b19",
   "metadata": {},
   "outputs": [
    {
     "name": "stdout",
     "output_type": "stream",
     "text": [
      "[5, 3, 6, 8]\n"
     ]
    }
   ],
   "source": [
    "print (li[3])"
   ]
  },
  {
   "cell_type": "code",
   "execution_count": 100,
   "id": "9a68242d",
   "metadata": {},
   "outputs": [
    {
     "name": "stdout",
     "output_type": "stream",
     "text": [
      "[2, 3, 2.5, [5, 3, 6, 8], 'hi ']\n"
     ]
    }
   ],
   "source": [
    "print (li[0:5])"
   ]
  },
  {
   "cell_type": "code",
   "execution_count": 104,
   "id": "af07c533",
   "metadata": {},
   "outputs": [
    {
     "name": "stdout",
     "output_type": "stream",
     "text": [
      "4\n"
     ]
    }
   ],
   "source": [
    "print (max(l))"
   ]
  },
  {
   "cell_type": "code",
   "execution_count": 112,
   "id": "6bab56f9",
   "metadata": {},
   "outputs": [
    {
     "name": "stdout",
     "output_type": "stream",
     "text": [
      "9\n",
      "2\n",
      "2\n",
      "7\n",
      "[2, 6, 9, 8, 9, 6, 4, 4]\n",
      "[2, 6, 9, 8, 9, 6, 4, 4, 6]\n",
      "<built-in method pop of list object at 0x000001BD66DBDF00>\n",
      "8\n",
      "<built-in method reverse of list object at 0x000001BD66DBDF00>\n",
      "[2, 4, 4, 6, 6, 6, 9, 9]\n",
      "[]\n"
     ]
    }
   ],
   "source": [
    "o=[2,6,9,8,9,6,5,4,4];\n",
    "print (max(o))\n",
    "print (min(o))\n",
    "print (o.count(9)) ##no of times 9 in o\n",
    "print (o.index(4)) ## produces lowest index\n",
    "o.remove(5)  ## removes an element\n",
    "print (o);\n",
    "o.append(6);\n",
    "print (o);\n",
    "print(o.pop)\n",
    "print (o.pop(3))\n",
    "print (o.reverse)\n",
    "o.sort()   #3sorts array\n",
    "print(o)\n",
    "list2=o.copy();\n",
    "o.clear();\n",
    "print (o);"
   ]
  },
  {
   "cell_type": "code",
   "execution_count": null,
   "id": "c3e481c8",
   "metadata": {},
   "outputs": [],
   "source": []
  }
 ],
 "metadata": {
  "kernelspec": {
   "display_name": "Python 3 (ipykernel)",
   "language": "python",
   "name": "python3"
  },
  "language_info": {
   "codemirror_mode": {
    "name": "ipython",
    "version": 3
   },
   "file_extension": ".py",
   "mimetype": "text/x-python",
   "name": "python",
   "nbconvert_exporter": "python",
   "pygments_lexer": "ipython3",
   "version": "3.9.7"
  }
 },
 "nbformat": 4,
 "nbformat_minor": 5
}
