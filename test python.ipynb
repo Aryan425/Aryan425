{
 "cells": [
  {
   "cell_type": "markdown",
   "id": "a2111b47",
   "metadata": {},
   "source": [
    "# 1 que"
   ]
  },
  {
   "cell_type": "code",
   "execution_count": 33,
   "id": "2636837f",
   "metadata": {},
   "outputs": [
    {
     "name": "stdout",
     "output_type": "stream",
     "text": [
      "[]\n"
     ]
    }
   ],
   "source": [
    "def duplicate(mylist):\n",
    "    list2=set(mylist)\n",
    "    list2=list(list2)\n",
    "    if(set(mylist)==set(list2)):\n",
    "        return []\n",
    "    return list2\n",
    "print(duplicate([5,6,8,9,6]))\n",
    "    "
   ]
  },
  {
   "cell_type": "markdown",
   "id": "68089974",
   "metadata": {},
   "source": [
    "# 2 Que"
   ]
  },
  {
   "cell_type": "code",
   "execution_count": 18,
   "id": "b603ddb9",
   "metadata": {},
   "outputs": [
    {
     "name": "stdout",
     "output_type": "stream",
     "text": [
      "[1, 9, 16, 4]\n"
     ]
    }
   ],
   "source": [
    "list1=[1,3,4,2]\n",
    "list2=[i**2 for i in list1]\n",
    "print(list2)"
   ]
  },
  {
   "cell_type": "markdown",
   "id": "4df6e912",
   "metadata": {},
   "source": [
    "# 3 Que"
   ]
  },
  {
   "cell_type": "code",
   "execution_count": 23,
   "id": "087904ac",
   "metadata": {},
   "outputs": [
    {
     "name": "stdout",
     "output_type": "stream",
     "text": [
      "hi its aryan\n"
     ]
    }
   ],
   "source": [
    "s1=\"Hi its Aryan\"\n",
    "s1=s1.lower()\n",
    "print(s1)"
   ]
  },
  {
   "cell_type": "code",
   "execution_count": 24,
   "id": "cc4cc4d6",
   "metadata": {},
   "outputs": [
    {
     "name": "stdout",
     "output_type": "stream",
     "text": [
      "i its arya\n"
     ]
    }
   ],
   "source": [
    "print(s1[1:-1])"
   ]
  },
  {
   "cell_type": "markdown",
   "id": "f323de1a",
   "metadata": {},
   "source": [
    "# 4 Que"
   ]
  },
  {
   "cell_type": "code",
   "execution_count": 26,
   "id": "8be85576",
   "metadata": {},
   "outputs": [
    {
     "name": "stdout",
     "output_type": "stream",
     "text": [
      "{'hi': 1, 'its': 2, 'Aryan': 2, 'great': 1, 'plesure': 1, 'to': 1, 'meet': 1, 'you': 1}\n"
     ]
    }
   ],
   "source": [
    "def wordFreq(str1):\n",
    "    wordDict=dict()\n",
    "    list1=str1.split(' ')\n",
    "    for i in list1:\n",
    "        flag=0;\n",
    "        for j in list1:\n",
    "            if(i==j):\n",
    "                flag+=1\n",
    "        wordDict[i]=flag\n",
    "    return wordDict\n",
    "\n",
    "print(wordFreq(\"hi its Aryan its great plesure to meet you Aryan\"))"
   ]
  },
  {
   "cell_type": "markdown",
   "id": "271eae76",
   "metadata": {},
   "source": [
    "# Que 5"
   ]
  },
  {
   "cell_type": "code",
   "execution_count": 32,
   "id": "e6f3156c",
   "metadata": {},
   "outputs": [
    {
     "name": "stdout",
     "output_type": "stream",
     "text": [
      "[7, 13, 17]\n"
     ]
    }
   ],
   "source": [
    "def primes(tup):\n",
    "    list1=[]\n",
    "    for i in tup:\n",
    "        flag=0;\n",
    "        for j in range(1,i):\n",
    "            if(i%j==0):\n",
    "                flag+=1\n",
    "        if(flag==1):\n",
    "            list1.append(i)\n",
    "    return list1\n",
    "print(primes((10,15,7,9,13,17,60)))"
   ]
  },
  {
   "cell_type": "code",
   "execution_count": 1,
   "id": "e29d856d",
   "metadata": {},
   "outputs": [
    {
     "data": {
      "text/plain": [
       "'sir'"
      ]
     },
     "execution_count": 1,
     "metadata": {},
     "output_type": "execute_result"
    }
   ],
   "source": [
    "max('hello', 'How', 'Are', 'You',\n",
    "'sir')"
   ]
  },
  {
   "cell_type": "code",
   "execution_count": 19,
   "id": "4cbda6c9",
   "metadata": {},
   "outputs": [
    {
     "data": {
      "text/plain": [
       "23"
      ]
     },
     "execution_count": 19,
     "metadata": {},
     "output_type": "execute_result"
    }
   ],
   "source": [
    "\n",
    "colors = 'green, red, blue, red, red, green'\n",
    "colors.rfind('red')\n"
   ]
  },
  {
   "cell_type": "code",
   "execution_count": 14,
   "id": "bedab3f2",
   "metadata": {},
   "outputs": [
    {
     "data": {
      "text/plain": [
       "'nayra sti ih'"
      ]
     },
     "execution_count": 14,
     "metadata": {},
     "output_type": "execute_result"
    }
   ],
   "source": [
    "str1=\"hi its aryan\"\n",
    "str2=\"z\"\n",
    "str1[::-1]"
   ]
  },
  {
   "cell_type": "code",
   "execution_count": 24,
   "id": "96ad66d9",
   "metadata": {},
   "outputs": [
    {
     "name": "stdout",
     "output_type": "stream",
     "text": [
      "Code of Scaler is 1117\n"
     ]
    }
   ],
   "source": [
    "myCode = 1117\n",
    "myName = \"Scaler\"\n",
    "myStr = \"Code of {0} is {1}\".format(myName, myCode)\n",
    "print(myStr)"
   ]
  },
  {
   "cell_type": "code",
   "execution_count": 5,
   "id": "d9625801",
   "metadata": {},
   "outputs": [
    {
     "name": "stdout",
     "output_type": "stream",
     "text": [
      "5\n"
     ]
    }
   ],
   "source": [
    "l1=[1,2,3]\n",
    "l2=l1+[4,5]\n",
    "print((l1+l2)[7])"
   ]
  },
  {
   "cell_type": "code",
   "execution_count": null,
   "id": "344816ba",
   "metadata": {},
   "outputs": [],
   "source": []
  }
 ],
 "metadata": {
  "kernelspec": {
   "display_name": "Python 3 (ipykernel)",
   "language": "python",
   "name": "python3"
  },
  "language_info": {
   "codemirror_mode": {
    "name": "ipython",
    "version": 3
   },
   "file_extension": ".py",
   "mimetype": "text/x-python",
   "name": "python",
   "nbconvert_exporter": "python",
   "pygments_lexer": "ipython3",
   "version": "3.9.7"
  }
 },
 "nbformat": 4,
 "nbformat_minor": 5
}
