{
 "cells": [
  {
   "cell_type": "code",
   "execution_count": 10,
   "id": "7daf46e1",
   "metadata": {},
   "outputs": [
    {
     "name": "stdout",
     "output_type": "stream",
     "text": [
      "Enter three sides of triangle- 12\n",
      "13\n",
      "15\n",
      "Area and perimeter of given triangle is =  (74.83314773547883, 40.0)\n"
     ]
    }
   ],
   "source": [
    "# 1 que\n",
    "def cal(a,b,c):\n",
    "    assert (a+b)>b and (b+c)>a and (a+c)>b,\"Wrong input its not triangle\"\n",
    "    s=(a+b+c)/2\n",
    "    area=(s*(s-a)*(s-b)*(s-c))**0.5\n",
    "    return area,s*2;\n",
    "def main():\n",
    "    a=int(input(\"Enter three sides of triangle- \"))\n",
    "    b=int(input(\"\"))\n",
    "    c=int(input(\"\"))\n",
    "    print(\"Area and perimeter of given triangle is = \",cal(a,b,c))\n",
    "main()"
   ]
  },
  {
   "cell_type": "code",
   "execution_count": 37,
   "id": "fc3491ec",
   "metadata": {},
   "outputs": [
    {
     "name": "stdout",
     "output_type": "stream",
     "text": [
      "Enter no of worker - 3\n",
      "Worker no  1\n",
      "enter sales of four week seprated by comma no spaces of worker -5000,60000,45000\n",
      "Worker no  2\n",
      "enter sales of four week seprated by comma no spaces of worker -4000,90000,6578\n",
      "Worker no  3\n",
      "enter sales of four week seprated by comma no spaces of worker -2000,40000,600\n",
      "Final list : \n",
      "[(1, 110000, 5500.0, 'Excellent Sales'), (2, 100578, 5028.900000000001, 'Excellent Sales'), (3, 42600, 0, 'Average Sales')]\n"
     ]
    }
   ],
   "source": [
    "#Prac 2\n",
    "def lis(num,list1=[]):\n",
    "    total=sum(list1)\n",
    "    comission=(0.05*total) if(total>50000) else 0\n",
    "    if(total>=80000):\n",
    "        return (num,total,comission,\"Excellent Sales\")\n",
    "    elif(total>=60000):\n",
    "        return (num,total,comission,\"Good Sales\")\n",
    "    elif(total>=40000):\n",
    "        return (num,total,comission,\"Average Sales\")\n",
    "    else:\n",
    "        return (num,total,comission,\"Work Hard\")\n",
    "    \n",
    "def main():\n",
    "    n=int(input(\"Enter no of worker - \"))\n",
    "    fin=[]\n",
    "    y=0\n",
    "    while(0<n):\n",
    "        y=y+1;\n",
    "        print(\"Worker no \",(y))\n",
    "        u_input=input(\"enter sales of four week seprated by comma no spaces of worker -\")\n",
    "        list2=[]\n",
    "        for i in u_input.split(','): # type casting\n",
    "            list2.append(int(i))\n",
    "        fin.append(lis(y,list2))\n",
    "        n=n-1\n",
    "    print(\"Final list : \")    \n",
    "    print(fin)\n",
    "main()    "
   ]
  },
  {
   "cell_type": "code",
   "execution_count": 24,
   "id": "e0f88c7c",
   "metadata": {},
   "outputs": [
    {
     "name": "stdout",
     "output_type": "stream",
     "text": [
      "enter term which you wanna find: 6\n",
      "term and its factorial=  [5, 120]\n"
     ]
    }
   ],
   "source": [
    "# 3 que\n",
    "import math\n",
    "def fiboo(n):\n",
    "    a = 0\n",
    "    b = 1\n",
    "    if n < 0:\n",
    "        print(\"Incorrect input\")\n",
    "    elif n == 0:\n",
    "        return a\n",
    "    elif n == 1:\n",
    "        return b\n",
    "    else:\n",
    "        for i in range(2, n):\n",
    "            c = a + b\n",
    "            a = b\n",
    "            b = c\n",
    "        fact=math.factorial(b)    \n",
    "        return [b,fact]\n",
    "\n",
    "n=int(input(\"enter term which you wanna find: \"))\n",
    "print(\"term and its factorial= \",fiboo(n))   "
   ]
  },
  {
   "cell_type": "code",
   "execution_count": 41,
   "id": "d1435b8b",
   "metadata": {},
   "outputs": [
    {
     "name": "stdout",
     "output_type": "stream",
     "text": [
      "Set of digit is =  {8, 5, 7}\n"
     ]
    }
   ],
   "source": [
    "# 4 Que-\n",
    "def sum_d(num):\n",
    "    set1=set();\n",
    "    if (num>10):\n",
    "        while(num>0):\n",
    "            set1.add(num%10)\n",
    "            num=num//10\n",
    "\n",
    "        return set1\n",
    "    return 0\n",
    "\n",
    "\n",
    "print (\"Set of digit is = \",sum_d(587))"
   ]
  },
  {
   "cell_type": "code",
   "execution_count": 1,
   "id": "07d6cc8f",
   "metadata": {},
   "outputs": [
    {
     "name": "stdout",
     "output_type": "stream",
     "text": [
      "Enter number of term in series : 5\n",
      "Enter x: 6\n",
      "Result of seies =  29.799999999999997\n"
     ]
    }
   ],
   "source": [
    "#5 Que\n",
    "def factorial(n):\n",
    "    f=1;\n",
    "    for i in range(1,n+1):\n",
    "        f*=i;\n",
    "    return f;    \n",
    "        \n",
    "def series(x,n):\n",
    "    sum_fin=1;\n",
    "    if(n==1):\n",
    "        return 1;\n",
    "    for i in range(2,n+1):\n",
    "        sum_fin+=((-1)**(i+1))*(x**i)/(factorial(i))\n",
    "    return sum_fin;\n",
    "num=int(input(\"Enter number of term in series : \"))\n",
    "x=int(input(\"Enter x: \"))\n",
    "print(\"Result of seies = \",series(x,num))\n",
    "    \n",
    "    "
   ]
  },
  {
   "cell_type": "code",
   "execution_count": 12,
   "id": "299e5c75",
   "metadata": {},
   "outputs": [
    {
     "name": "stdout",
     "output_type": "stream",
     "text": [
      "Even tuple =  (2, 2, 4, 6, 8, 10)\n",
      "Modified tuple t1 ofter adding t2  (1, 2, 5, 7, 9, 2, 4, 6, 8, 10, 11, 13, 15)\n",
      "Maximum value in tuple is -  15\n",
      "Minimum value in tuple is -  1\n"
     ]
    }
   ],
   "source": [
    "#6 Que\n",
    "t1=(1,2,5,7,9,2,4,6,8,10)\n",
    "tup_even=tuple(i for i in t1 if i%2==0) # tuple comprehension\n",
    "print (\"Even tuple = \",tup_even)\n",
    "t2=(11,13,15)\n",
    "t1=t1+t2;  # adding t2 to t1\n",
    "print (\"Modified tuple t1 ofter adding t2 \",t1)\n",
    "print(\"Maximum value in tuple is - \",max(t1))\n",
    "print(\"Minimum value in tuple is - \",min(t1))"
   ]
  },
  {
   "cell_type": "code",
   "execution_count": 38,
   "id": "33ab96d8",
   "metadata": {},
   "outputs": [
    {
     "name": "stdout",
     "output_type": "stream",
     "text": [
      "1.len of String \n",
      " 2. Max of three String  \n",
      " 3.replace vowels with # \n",
      " 4. no of word in string \n",
      " 5.palindrome String \n",
      " 1\n",
      "enter string: I kk venugopal ,MP Rajya Sabha\n",
      "length of string is =  30\n"
     ]
    }
   ],
   "source": [
    "# 7 Que\n",
    "def main():\n",
    "    n=int(input('''1.len of String \\n 2. Max of three String  \\n 3.replace vowels with # \\n 4. no of word in string \\n 5.palindrome String \\n '''))\n",
    "    assert n>0 and n<6,\"wrong input\"\n",
    "    if n==1:\n",
    "        str1=input(\"enter string: \")\n",
    "        print(\"length of string is = \",len(str1))\n",
    "    elif n==2:\n",
    "        str1=input(\"ente  string 1 : \")\n",
    "        str2=input(\"ente  string 2 : \")\n",
    "        str3=input(\"ente  string 3 : \")\n",
    "        list1=[str1,str2,str3]\n",
    "        print (\"Max of three string is = \",max(list1))\n",
    "    elif n==3:\n",
    "        str1=input(\"enter string: \")\n",
    "        list1=['a','A','e','E','i','I','o','O','u','U']\n",
    "        for i in list1:\n",
    "            str1=str1.replace(i,'#')\n",
    "        print(\"Modified string is : \",str1)\n",
    "    elif n==4:\n",
    "        str1=input(\"enter string: \")\n",
    "        print(\"No of words of string is = \",str1.count(' ')+1)\n",
    "    elif n==5:\n",
    "        str1=input(\"enter string: \")\n",
    "        result=\"Palindrome \" if str1==str1[::-1] else \"Not plaindrome\"\n",
    "        print(\"String is  = \",result)\n",
    "main()        \n",
    "        \n",
    "        "
   ]
  },
  {
   "cell_type": "code",
   "execution_count": 39,
   "id": "fac65694",
   "metadata": {},
   "outputs": [
    {
     "name": "stdout",
     "output_type": "stream",
     "text": [
      "Enter no. of element in list: 3\n",
      "Enter elements\n",
      "15\n",
      "16\n",
      "19\n",
      "1)Check if all elements in list are numbers or not. \n",
      " 2)If it is an numeric list ,then count number of odd values in it. \n",
      " \n",
      "3)If list contains all Strings ,then display largest String in list. \n",
      " \n",
      "4)Display List In Reverse Form. \n",
      "  5)Find A Specified Element In List. \n",
      " \n",
      "4\n",
      "reverse list is =  ['19', '16', '15']\n"
     ]
    }
   ],
   "source": [
    "# 8 que\n",
    "def is_numeric(l):\n",
    "    res=all(i.isdigit() for i in l)\n",
    "    return res;\n",
    "    \n",
    "list1=[]\n",
    "n=int(input(\"Enter no. of element in list: \"))\n",
    "print(\"Enter elements\")\n",
    "\n",
    "for i in range(n):\n",
    "    t=input(\"\")\n",
    "    list1.append(t)\n",
    "    \n",
    "choice=int(input('''1)Check if all elements in list are numbers or not. \\n 2)If it is an numeric list ,then count number of odd values in it. \\n \n",
    "3)If list contains all Strings ,then display largest String in list. \\n \n",
    "4)Display List In Reverse Form. \\n  5)Find A Specified Element In List. \\n \n",
    "'''))\n",
    "assert c>0 and c<6,\"Wrong input\"\n",
    "if(choice==1):\n",
    "    print(\"all elements in list are numbers or not = \",is_numeric(list1))\n",
    "    \n",
    "elif(choice==2):\n",
    "    if(is_numeric(list1)):\n",
    "        list2=[i for i in list1 if int(i)%2==1]\n",
    "        print (\"number of odd values = \",len(list2))\n",
    "    else:\n",
    "        print(\"list is non numeric\")\n",
    "        \n",
    "elif(choice==3):\n",
    "    if(all(isinstance(i, str) for i in list1)):\n",
    "        print(\"max string in list = \",max(list1))\n",
    "    else:\n",
    "        print(\"each element is not string\")\n",
    "elif(choice==4):\n",
    "    print(\"reverse list is = \",list1[::-1])\n",
    "elif(choice==5):\n",
    "    ele=input(\"Enter element you wanna find : \")\n",
    "    print (\"element found at index = \",list1.index(ele))\n",
    "    \n",
    "    \n",
    "    \n",
    "    "
   ]
  },
  {
   "cell_type": "code",
   "execution_count": 58,
   "id": "faf75847",
   "metadata": {},
   "outputs": [
    {
     "name": "stdout",
     "output_type": "stream",
     "text": [
      "Maximum number scored by strdent  alex  total of  157  persentage=  78.5\n"
     ]
    }
   ],
   "source": [
    "# que 9\n",
    "dic1={\"Aryan\":[50,48,20,36],\"Abhinav\":[48,24,37,10],\"alex\":[43,39,41,34],\"harry\":[50,10,12,13]}\n",
    "val=list(dic1.values())\n",
    "key=list(dic1.keys())\n",
    "max_index=1\n",
    "for i in range(len(val)):\n",
    "    if sum(val[max_index])<sum(val[i]):\n",
    "        max_index=i;\n",
    "print(\"Maximum number scored by strdent \",key[max_index],' total of ',sum(val[max_index]),' persentage= ',sum(val[max_index])/2)        \n",
    "    \n",
    "\n"
   ]
  },
  {
   "cell_type": "code",
   "execution_count": 68,
   "id": "333affc5",
   "metadata": {},
   "outputs": [
    {
     "name": "stdout",
     "output_type": "stream",
     "text": [
      "Enter string = hello\n",
      "final dictionary -  {'e': 1, 'h': 1, 'l': 2, 'o': 1}\n"
     ]
    }
   ],
   "source": [
    "# que 10\n",
    "import string\n",
    "dic1=dict.fromkeys(string.ascii_lowercase,0) # funtion to make dictionary of lowercase associating primary value=0\n",
    "str1=input(\"Enter string = \")\n",
    "str1=str1.lower();\n",
    "val=list(dic1.values())\n",
    "key=list(dic1.keys())\n",
    "for i in range(len(key)):\n",
    "    t=str1.count(key[i])\n",
    "    if t>0:\n",
    "        dic1[key[i]]=t;\n",
    "dic_fin=dict((k,v)for k,v in dic1.items() if v>0)   # getting letters having frequency >0     \n",
    "print(\"final dictionary - \",dic_fin)        \n"
   ]
  },
  {
   "cell_type": "code",
   "execution_count": 36,
   "id": "821f4add",
   "metadata": {},
   "outputs": [
    {
     "name": "stdout",
     "output_type": "stream",
     "text": [
      "No number of student : 4\n",
      "Start entering element : \n",
      "pratap\n",
      "singh\n",
      "king\n",
      "brava\n",
      "1. Sorting 2. Searching1\n",
      "Sorted list =  ['brava', 'king', 'pratap', 'singh']\n"
     ]
    }
   ],
   "source": [
    "# 11 Que\n",
    "\n",
    "def sorting(data):\n",
    "    t = data\n",
    "    data = list(data)\n",
    "    temp = 0;\n",
    "    for i in range(len(data) - 1):\n",
    "        for j in range(len(data) - i - 1):\n",
    "            if (data[j] > data[j + 1]):\n",
    "                temp = data[j]\n",
    "                data[j] = data[j + 1]\n",
    "                data[j + 1] = temp\n",
    "    return data;\n",
    "def lin_serach(data,x):\n",
    "    data=list(data)\n",
    "    for i in range(len(data)):\n",
    "        if(data[i]==x):\n",
    "            return i\n",
    "    return -1; # not found\n",
    "def main():\n",
    "    list1=[]; # empty list\n",
    "    n=int(input(\"No number of student : \"))\n",
    "    print(\"Start entering element : \")\n",
    "    for i in range(n):\n",
    "        t=input(\"\")\n",
    "        list1.append(t)\n",
    "    choice=int(input(\"1. Sorting 2. Searching\"))\n",
    "    assert choice==1 or choice==2,\"Wrong choice\"\n",
    "    if(choice==1):\n",
    "        print(\"Sorted list = \",sorting(list1))\n",
    "    else:\n",
    "        x=input(\"enter element wanna find : \")\n",
    "        t=lin_serach(list1,x)\n",
    "        if(t>-1):\n",
    "            print(\"element found at index = \",t)\n",
    "        else:\n",
    "            print(\"element not found \")\n",
    "main()        "
   ]
  },
  {
   "cell_type": "code",
   "execution_count": 6,
   "id": "5fa2a62c",
   "metadata": {},
   "outputs": [
    {
     "name": "stdout",
     "output_type": "stream",
     "text": [
      "Enter no of values wannna enter 8\n",
      "Start entering numbers \n",
      "19\n",
      "25\n",
      "19\n",
      "32\n",
      "25\n",
      "19\n",
      "78\n",
      "65\n"
     ]
    },
    {
     "data": {
      "image/png": "[encoded data removed]",
      "text/plain": [
       "<Figure size 432x288 with 1 Axes>"
      ]
     },
     "metadata": {
      "needs_background": "light"
     },
     "output_type": "display_data"
    }
   ],
   "source": [
    "# 12 Que\n",
    "def hist(ls):\n",
    "    import matplotlib.pyplot as mpl\n",
    "    import numpy as np\n",
    "    arr1=np.array(ls)\n",
    "    mpl.hist(arr1,edgecolor='blue')\n",
    "    mpl.title(\"Histogram\")\n",
    "    mpl.show()\n",
    "def main():\n",
    "    p=[];\n",
    "    n=int(input(\"Enter no of values wannna enter \"))\n",
    "    print(\"Start entering numbers \")\n",
    "    for i in range(n):\n",
    "        t=input()\n",
    "        p.append(t)\n",
    "    hist(p)\n",
    "main()    \n",
    "        "
   ]
  },
  {
   "cell_type": "code",
   "execution_count": 1,
   "id": "b3bd81cf",
   "metadata": {},
   "outputs": [
    {
     "data": {
      "image/png": "[encoded data removed]",
      "text/plain": [
       "<Figure size 432x288 with 2 Axes>"
      ]
     },
     "metadata": {
      "needs_background": "light"
     },
     "output_type": "display_data"
    },
    {
     "data": {
      "image/png": "[encoded data removed]",
      "text/plain": [
       "<Figure size 432x288 with 2 Axes>"
      ]
     },
     "metadata": {
      "needs_background": "light"
     },
     "output_type": "display_data"
    }
   ],
   "source": [
    "#Que 13\n",
    "import math\n",
    "def curves():\n",
    "    l1=[i for i in range(0,180,30)]\n",
    "    l_cos=[math.cos(i) for i in l1]\n",
    "    l_sin=[math.sin(i) for i in l1]\n",
    "    l_pol=[i**2 for i in l1]\n",
    "    l_exp=[math.exp(i) for i in l1]\n",
    "    import matplotlib.pyplot as mpl\n",
    "    mpl.subplot(1,2,1)\n",
    "    mpl.plot(l1,l_cos,'r*--')\n",
    "    mpl.title('cos x ')\n",
    "    mpl.subplot(1,2,2)\n",
    "    mpl.plot(l1,l_sin,'g*--')\n",
    "    mpl.title('sin x ')\n",
    "    mpl.show()\n",
    "    mpl.subplot(1,2,1)\n",
    "    mpl.plot(l1,l_pol,'b+-',markersize=10.5,linewidth=1.6)\n",
    "    mpl.title('polynomial x ')\n",
    "    mpl.subplot(1,2,2)\n",
    "    mpl.plot(l1,l_exp,'g+-',markersize=10.5,linewidth=1.6)\n",
    "    mpl.title('exponential x ')\n",
    "    mpl.show()\n",
    "    \n",
    "    \n",
    "curves()    "
   ]
  },
  {
   "cell_type": "code",
   "execution_count": 5,
   "id": "c677c0e1",
   "metadata": {},
   "outputs": [
    {
     "name": "stdout",
     "output_type": "stream",
     "text": [
      "Enter file name you wanna read  -  abc.txt\n",
      "Enter file name you wanna write  -  cba.txt\n",
      "Copying done successfully\n"
     ]
    }
   ],
   "source": [
    "# Que 14\n",
    "def read_copy(file1,file2):\n",
    "    \n",
    "    try:\n",
    "        f=open(file1,'r')\n",
    "        w=open(file2,'a')\n",
    "        readed_txt=f.readlines()\n",
    "        for i in range(0,len(readed_txt),2):\n",
    "             w.write(readed_txt[i])\n",
    "        print(\"Copying done successfully\")\n",
    "    \n",
    "    \n",
    "    except IOError:\n",
    "        print(\"Error in opening file\")\n",
    "    except:\n",
    "        print(\"Something went wrong \")\n",
    "def main():\n",
    "    f1=input(\"Enter file name you wanna read  -  \")\n",
    "    w1=input(\"Enter file name you wanna write  -  \")\n",
    "    read_copy(f1,w1)\n",
    "main()"
   ]
  },
  {
   "cell_type": "code",
   "execution_count": 9,
   "id": "8e659bce",
   "metadata": {},
   "outputs": [
    {
     "name": "stdout",
     "output_type": "stream",
     "text": [
      "John Cena\n",
      "Goldberg\n",
      "Roman\n",
      "max class avg is  99.0\n",
      "Knock Knock- who's there ....(amid crazy sound).... Its  Destructor \n",
      "Knock Knock- who's there ....(amid crazy sound).... Its  Destructor \n",
      "Knock Knock- who's there ....(amid crazy sound).... Its  Destructor \n"
     ]
    }
   ],
   "source": [
    "# Que 15\n",
    "class student:\n",
    "    max_avg=0\n",
    "    def __init__(self,name,m1,m2,m3):\n",
    "        self.name=name;\n",
    "        self.marks1=m1;\n",
    "        self.marks2=m2;\n",
    "        self.marks3=m3;\n",
    "        self.max_avg=(m1+m2+m3)/3\n",
    "    def __del__(self):\n",
    "        print(\"Knock Knock- who's there ....(amid crazy sound).... Its  Destructor \")\n",
    "def main():\n",
    "    l1=[];\n",
    "    b1=student(\"John Cena\",100,46,56)\n",
    "    print(b1.name)\n",
    "    l1.append(b1.max_avg)\n",
    "    b2=student(\"Goldberg\",90,99,56)\n",
    "    print(b2.name)\n",
    "    l1.append(b2.max_avg)\n",
    "    b3=student(\"Roman\",99,99,99)\n",
    "    print(b3.name)\n",
    "    l1.append(b3.max_avg)\n",
    "    \n",
    "    print(\"max class avg is \",max(l1))\n",
    "    del b1  ## destructor \n",
    "    del b2\n",
    "    del b3\n",
    "main()\n",
    "    "
   ]
  },
  {
   "cell_type": "code",
   "execution_count": null,
   "id": "a8fbfa33",
   "metadata": {},
   "outputs": [],
   "source": []
  },
  {
   "cell_type": "code",
   "execution_count": null,
   "id": "5161f5f2",
   "metadata": {},
   "outputs": [],
   "source": []
  }
 ],
 "metadata": {
  "kernelspec": {
   "display_name": "Python 3 (ipykernel)",
   "language": "python",
   "name": "python3"
  },
  "language_info": {
   "codemirror_mode": {
    "name": "ipython",
    "version": 3
   },
   "file_extension": ".py",
   "mimetype": "text/x-python",
   "name": "python",
   "nbconvert_exporter": "python",
   "pygments_lexer": "ipython3",
   "version": "3.9.7"
  }
 },
 "nbformat": 4,
 "nbformat_minor": 5
}
